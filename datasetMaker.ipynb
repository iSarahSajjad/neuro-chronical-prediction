{
 "cells": [
  {
   "cell_type": "code",
   "execution_count": 1,
   "id": "2fad3bea",
   "metadata": {},
   "outputs": [],
   "source": [
    "import os\n",
    "import shutil\n",
    "import gzip\n",
    "\n",
    "def copy_and_unzip(source_dir, dest_dir):\n",
    "    for root, dirs, files in os.walk(source_dir):\n",
    "        dirs[:] = [d for d in dirs if d not in skip_folders]\n",
    "        \n",
    "        for dir_name in dirs:\n",
    "            # Create corresponding directory in the destination\n",
    "            source_path = os.path.join(root, dir_name)\n",
    "            dest_path = os.path.join(dest_dir, os.path.relpath(source_path, source_dir))\n",
    "            if not os.path.exists(dest_path):\n",
    "                os.makedirs(dest_path)\n",
    "        \n",
    "        for file_name in files:\n",
    "            source_file = os.path.join(root, file_name)\n",
    "            dest_file = os.path.join(dest_dir, os.path.relpath(source_file, source_dir))\n",
    "            \n",
    "            if any(folder in root for folder in target_folders) and file_name.endswith('.nii.gz'):\n",
    "                # Unzip .gz file if it is within an 'anat' directory\n",
    "                dest_file = dest_file[:-3]  # remove .gz extension\n",
    "                try:\n",
    "                    with gzip.open(source_file, 'rb') as f_in:\n",
    "                        with open(dest_file, 'wb') as f_out:\n",
    "                            shutil.copyfileobj(f_in, f_out)\n",
    "                except EOFError:\n",
    "                    print(f\"Warning: Skipping corrupted file {source_file}\")\n",
    "            else:\n",
    "                # Simply copy the file\n",
    "                shutil.copy2(source_file, dest_file)\n",
    "\n",
    "# Assuming the script is located two levels down from the source directory\n",
    "source_directory = os.path.abspath('/home/sarahfurqan/Projects/chronic-AI/openpain__subacute_longitudinal_study_version-1.0')\n",
    "destination_directory = os.path.abspath('/home/sarahfurqan/Projects/chronic-AI/openpain__subacute')\n",
    "# List of folders to skip\n",
    "skip_folders = ['dwi', 'func']\n",
    "# Folder where we want to unzip files\n",
    "target_folders = ['anat']\n",
    "\n",
    "copy_and_unzip(source_directory, destination_directory)\n"
   ]
  },
  {
   "cell_type": "code",
   "execution_count": null,
   "id": "95a68907",
   "metadata": {},
   "outputs": [],
   "source": []
  },
  {
   "cell_type": "code",
   "execution_count": null,
   "id": "1f912cfc",
   "metadata": {},
   "outputs": [],
   "source": []
  }
 ],
 "metadata": {
  "kernelspec": {
   "display_name": "Python 3 (ipykernel)",
   "language": "python",
   "name": "python3"
  },
  "language_info": {
   "codemirror_mode": {
    "name": "ipython",
    "version": 3
   },
   "file_extension": ".py",
   "mimetype": "text/x-python",
   "name": "python",
   "nbconvert_exporter": "python",
   "pygments_lexer": "ipython3",
   "version": "3.11.5"
  }
 },
 "nbformat": 4,
 "nbformat_minor": 5
}
