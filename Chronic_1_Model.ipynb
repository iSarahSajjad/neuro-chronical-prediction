{
  "nbformat": 4,
  "nbformat_minor": 0,
  "metadata": {
    "colab": {
      "provenance": [],
      "gpuType": "T4",
      "machine_shape": "hm",
      "mount_file_id": "17KHDp2ADyGV55WMXYXW5vxGY1TbfJe9Y",
      "authorship_tag": "ABX9TyNF0UYdOVqg3wKAQIUrdYAP",
      "include_colab_link": true
    },
    "kernelspec": {
      "name": "python3",
      "display_name": "Python 3"
    },
    "language_info": {
      "name": "python"
    },
    "accelerator": "GPU"
  },
  "cells": [
    {
      "cell_type": "markdown",
      "metadata": {
        "id": "view-in-github",
        "colab_type": "text"
      },
      "source": [
        "<a href=\"https://colab.research.google.com/github/iSarahSajjad/neuro-chronical-prediction/blob/Models/Chronic_1_Model.ipynb\" target=\"_parent\"><img src=\"https://colab.research.google.com/assets/colab-badge.svg\" alt=\"Open In Colab\"/></a>"
      ]
    },
    {
      "cell_type": "code",
      "execution_count": 1,
      "metadata": {
        "id": "O5TsL3JXboIn",
        "colab": {
          "base_uri": "https://localhost:8080/"
        },
        "outputId": "60accf11-bdb2-4ad0-cb9e-dbb5132bc79c"
      },
      "outputs": [
        {
          "output_type": "stream",
          "name": "stdout",
          "text": [
            "Mounted at /content/drive\n"
          ]
        }
      ],
      "source": [
        "# prompt: connect with google drive and get the file from chronic AI sub folder dataset\n",
        "\n",
        "from google.colab import drive\n",
        "drive.mount('/content/drive')\n",
        "\n",
        "import numpy as np\n",
        "import pandas as pd\n",
        "import sklearn as sk\n",
        "import matplotlib.pyplot as plt\n",
        "import seaborn as sns\n",
        "import os\n"
      ]
    },
    {
      "cell_type": "code",
      "source": [
        "main_file_path = '/content/drive/My Drive/ChronicAI/dataset/participants.tsv'\n",
        "\n",
        "# Read the TSV file into a DataFrame using pandas\n",
        "main_df = pd.read_csv(main_file_path, sep='\\t')\n",
        "\n",
        "base_dir = '/content/drive/My Drive/ChronicAI/dataset/'\n",
        "\n",
        "# Create a list to store the combined data\n",
        "combined_data = []\n",
        "\n",
        "# Keep only the specified columns\n",
        "main_df = main_df[['participant_id', 'age', 'origin', 'group']]\n",
        "\n",
        "# Iterate through each row in the main DataFrame\n",
        "for index, row in main_df.iterrows():\n",
        "    participant_id = row['participant_id']\n",
        "\n",
        "    # Define the path to the participant's directory\n",
        "    participant_dir = os.path.join(base_dir, str(participant_id))\n",
        "\n",
        "    # Check if the directory exists\n",
        "    if os.path.exists(participant_dir):\n",
        "        # Get a list of all TSV files in the participant's directory\n",
        "        tsv_files = [f for f in os.listdir(participant_dir) if f.endswith('.tsv')]\n",
        "\n",
        "        # Iterate through each TSV file\n",
        "        for tsv_file in tsv_files:\n",
        "            tsv_file_path = os.path.join(participant_dir, tsv_file)\n",
        "\n",
        "            # Read the TSV file into a DataFrame\n",
        "            participant_df = pd.read_csv(tsv_file_path, sep='\\t')\n",
        "\n",
        "            # Add the participant's ID to the DataFrame\n",
        "            participant_df['participant_id'] = participant_id\n",
        "\n",
        "            # Append the DataFrame to the combined data list\n",
        "            combined_data.append(participant_df)\n",
        "\n",
        "# Combine all the DataFrames in the list into a single DataFrame\n",
        "combined_df = pd.concat(combined_data, ignore_index=True)\n",
        "\n",
        "# Merge the combined DataFrame with the main DataFrame on participant_id\n",
        "final_df = pd.merge(main_df, combined_df, on='participant_id', how='left')\n",
        "\n",
        "# Display the first few rows of the final DataFrame\n",
        "print(final_df.head())"
      ],
      "metadata": {
        "colab": {
          "base_uri": "https://localhost:8080/"
        },
        "id": "g4Pu-do0jBTv",
        "outputId": "9d1e693f-4078-4dc3-ccf0-dd29ee74fe59"
      },
      "execution_count": 2,
      "outputs": [
        {
          "output_type": "stream",
          "name": "stdout",
          "text": [
            "  participant_id  age origin     group session_id  days_since_interview  \\\n",
            "0        sub-001   27      4  subacute  interview                   0.0   \n",
            "1        sub-001   27      4  subacute     visit1                   4.0   \n",
            "2        sub-001   27      4  subacute     visit2                  94.0   \n",
            "3        sub-001   27      4  subacute     visit3                   NaN   \n",
            "4        sub-001   27      4  subacute     visit4                 395.0   \n",
            "\n",
            "  hours_sleep smoker limited_self_care/mobility bdi_total  ...  pdi_total  \\\n",
            "0      6 to 7      n                          y       1.0  ...          2   \n",
            "1      6 to 7      n                          n       NaN  ...         17   \n",
            "2         NaN    NaN                        NaN       NaN  ...         21   \n",
            "3           7      n                          n       7.0  ...          2   \n",
            "4         NaN    NaN                        NaN       7.0  ...          2   \n",
            "\n",
            "   pdetect_pain_now  pdetect_strongest_4wks pdetect_pain_average_4wks  \\\n",
            "0                NaN                    NaN                       NaN   \n",
            "1                NaN                    NaN                       NaN   \n",
            "2                NaN                    NaN                       NaN   \n",
            "3                NaN                    NaN                       NaN   \n",
            "4                NaN                    NaN                       NaN   \n",
            "\n",
            "  pdetect_pain_course pdetect_total changes_since_last_visit  \\\n",
            "0                 NaN           NaN                      NaN   \n",
            "1                 NaN           NaN         injury/more pain   \n",
            "2                 NaN           NaN      more/different pain   \n",
            "3                 NaN           NaN                     none   \n",
            "4                 NaN           NaN                      NaN   \n",
            "\n",
            "  limited self care/mobility panas_total mpq_total  \n",
            "0                        NaN         NaN       NaN  \n",
            "1                        NaN         NaN       NaN  \n",
            "2                        NaN         NaN       NaN  \n",
            "3                        NaN         NaN       NaN  \n",
            "4                        NaN         NaN       NaN  \n",
            "\n",
            "[5 rows x 52 columns]\n"
          ]
        }
      ]
    },
    {
      "cell_type": "code",
      "source": [
        "import nibabel as nib\n",
        "from sklearn.preprocessing import LabelEncoder\n",
        "\n",
        "# Filter data by group\n",
        "groups = ['healthy', 'chronic', 'subacute']\n",
        "filtered_dfs = {group: final_df[final_df['group'] == group] for group in groups}\n",
        "\n",
        "# Initialize lists to store data and labels\n",
        "all_data = []\n",
        "all_labels = []\n",
        "\n",
        "# Function to load and normalize MRI data\n",
        "def load_and_normalize_mri(file_path):\n",
        "    try:\n",
        "        img = nib.load(file_path)\n",
        "        img_data = img.get_fdata()\n",
        "        img_data = (img_data - np.min(img_data)) / (np.max(img_data) - np.min(img_data))\n",
        "        return img_data\n",
        "    except Exception as e:\n",
        "        print(f\"Error loading or normalizing {file_path}: {e}\")\n",
        "        return None\n",
        "\n",
        "# Process each group\n",
        "for group in groups:\n",
        "    df = filtered_dfs[group]\n",
        "    print(f\"Processing group: {group}, Number of participants: {len(df)}\")\n",
        "\n",
        "    for _, row in df.iterrows():\n",
        "        participant_id = row['participant_id']\n",
        "        session_id = row['session_id']\n",
        "        session_folder = f\"ses-{session_id}\"\n",
        "        anat_path = os.path.join(base_dir, str(participant_id), session_folder, 'anat')\n",
        "\n",
        "        if os.path.exists(anat_path):\n",
        "            for file_name in os.listdir(anat_path):\n",
        "                if file_name.endswith('.nii'):\n",
        "                    file_path = os.path.join(anat_path, file_name)\n",
        "                    img_data = load_and_normalize_mri(file_path)\n",
        "                    if img_data is not None:\n",
        "                        all_data.append(img_data)\n",
        "                        all_labels.append(group)\n",
        "                    break  # Only one sample per session\n",
        "\n",
        "# Convert lists to numpy arrays\n",
        "if all_data:\n",
        "    all_data = np.array(all_data)\n",
        "    all_labels = np.array(all_labels)\n",
        "\n",
        "    # Encode labels to integers\n",
        "    label_encoder = LabelEncoder()\n",
        "    encoded_labels = label_encoder.fit_transform(all_labels)\n",
        "\n",
        "    # Save prepared data and labels\n",
        "    np.save('prepared_mri_data.npy', all_data)\n",
        "    np.save('prepared_labels.npy', encoded_labels)\n",
        "\n",
        "    # Print summary\n",
        "    print(f\"Total samples: {len(all_data)}\")\n",
        "    print(f\"Unique groups: {label_encoder.classes_}\")\n",
        "else:\n",
        "    print(\"No valid MRI data found. Check the data directory and file formats.\")"
      ],
      "metadata": {
        "colab": {
          "base_uri": "https://localhost:8080/",
          "height": 263
        },
        "id": "btnbQQ2WE38F",
        "outputId": "30c96217-a79d-4a6e-b273-e8d61f08236c"
      },
      "execution_count": 3,
      "outputs": [
        {
          "output_type": "stream",
          "name": "stdout",
          "text": [
            "Processing group: healthy, Number of participants: 130\n",
            "Processing group: chronic, Number of participants: 130\n",
            "Processing group: subacute, Number of participants: 390\n"
          ]
        },
        {
          "output_type": "error",
          "ename": "ValueError",
          "evalue": "setting an array element with a sequence. The requested array has an inhomogeneous shape after 1 dimensions. The detected shape was (434,) + inhomogeneous part.",
          "traceback": [
            "\u001b[0;31m---------------------------------------------------------------------------\u001b[0m",
            "\u001b[0;31mValueError\u001b[0m                                Traceback (most recent call last)",
            "\u001b[0;32m<ipython-input-3-e9921ab0a475>\u001b[0m in \u001b[0;36m<cell line: 45>\u001b[0;34m()\u001b[0m\n\u001b[1;32m     44\u001b[0m \u001b[0;31m# Convert lists to numpy arrays\u001b[0m\u001b[0;34m\u001b[0m\u001b[0;34m\u001b[0m\u001b[0m\n\u001b[1;32m     45\u001b[0m \u001b[0;32mif\u001b[0m \u001b[0mall_data\u001b[0m\u001b[0;34m:\u001b[0m\u001b[0;34m\u001b[0m\u001b[0;34m\u001b[0m\u001b[0m\n\u001b[0;32m---> 46\u001b[0;31m     \u001b[0mall_data\u001b[0m \u001b[0;34m=\u001b[0m \u001b[0mnp\u001b[0m\u001b[0;34m.\u001b[0m\u001b[0marray\u001b[0m\u001b[0;34m(\u001b[0m\u001b[0mall_data\u001b[0m\u001b[0;34m)\u001b[0m\u001b[0;34m\u001b[0m\u001b[0;34m\u001b[0m\u001b[0m\n\u001b[0m\u001b[1;32m     47\u001b[0m     \u001b[0mall_labels\u001b[0m \u001b[0;34m=\u001b[0m \u001b[0mnp\u001b[0m\u001b[0;34m.\u001b[0m\u001b[0marray\u001b[0m\u001b[0;34m(\u001b[0m\u001b[0mall_labels\u001b[0m\u001b[0;34m)\u001b[0m\u001b[0;34m\u001b[0m\u001b[0;34m\u001b[0m\u001b[0m\n\u001b[1;32m     48\u001b[0m \u001b[0;34m\u001b[0m\u001b[0m\n",
            "\u001b[0;31mValueError\u001b[0m: setting an array element with a sequence. The requested array has an inhomogeneous shape after 1 dimensions. The detected shape was (434,) + inhomogeneous part."
          ]
        }
      ]
    },
    {
      "cell_type": "code",
      "source": [
        "import nibabel as nib\n",
        "import numpy as np\n",
        "import tensorflow as tf\n",
        "from tensorflow.keras.models import Sequential\n",
        "from tensorflow.keras.layers import Conv3D, MaxPooling3D, Flatten, Dense\n",
        "from sklearn.preprocessing import LabelEncoder\n",
        "from tensorflow.keras.utils import to_categorical\n",
        "from scipy.ndimage import zoom\n",
        "import os\n",
        "\n",
        "# Filter data by group\n",
        "groups = ['healthy', 'chronic', 'subacute']\n",
        "filtered_dfs = {group: final_df[final_df['group'] == group] for group in groups}\n",
        "\n",
        "# Initialize lists to store data and labels\n",
        "all_data = []\n",
        "all_labels = []\n",
        "\n",
        "# Function to load, normalize, and resize MRI data\n",
        "def load_and_process_mri(file_path, target_size=(64, 64, 64)):\n",
        "    try:\n",
        "        img = nib.load(file_path)\n",
        "        img_data = img.get_fdata()\n",
        "        img_data = (img_data - np.min(img_data)) / (np.max(img_data) - np.min(img_data))\n",
        "\n",
        "        # Resize to target size if necessary\n",
        "        if img_data.shape != target_size:\n",
        "            factors = [t / s for s, t in zip(img_data.shape, target_size)]\n",
        "            img_data = zoom(img_data, factors, order=1)  # Use zoom from scipy\n",
        "\n",
        "        return img_data\n",
        "    except Exception as e:\n",
        "        print(f\"Error loading or processing {file_path}: {e}\")\n",
        "        return None\n",
        "\n",
        "# Process each group\n",
        "for group in groups:\n",
        "    df = filtered_dfs[group]\n",
        "    print(f\"Processing group: {group}, Number of participants: {len(df)}\")\n",
        "\n",
        "    for _, row in df.iterrows():\n",
        "        participant_id = row['participant_id']\n",
        "        session_id = row['session_id']\n",
        "        session_folder = f\"ses-{session_id}\"\n",
        "        anat_path = os.path.join(base_dir, str(participant_id), session_folder, 'anat')\n",
        "\n",
        "        if os.path.exists(anat_path):\n",
        "            for file_name in os.listdir(anat_path):\n",
        "                if file_name.endswith('.nii'):\n",
        "                    file_path = os.path.join(anat_path, file_name)\n",
        "                    img_data = load_and_process_mri(file_path)\n",
        "                    if img_data is not None:\n",
        "                        # Add channel dimension\n",
        "                        img_data = np.expand_dims(img_data, axis=-1)\n",
        "                        all_data.append(img_data)\n",
        "                        all_labels.append(group)\n",
        "                    break  # Only one sample per session\n",
        "\n",
        "# Convert data and labels to numpy arrays\n",
        "all_data = np.array(all_data)\n",
        "all_labels = np.array(all_labels)\n",
        "\n",
        "# Encode labels as integers and then one-hot vectors\n",
        "label_encoder = LabelEncoder()\n",
        "integer_labels = label_encoder.fit_transform(all_labels)\n",
        "one_hot_labels = to_categorical(integer_labels, num_classes=len(groups))\n",
        "\n",
        "# Ensure the correct input shape for Conv3D\n",
        "input_shape = all_data.shape[1:]  # Exclude the number of samples\n",
        "\n",
        "# Create a 3D CNN model\n",
        "model = Sequential([\n",
        "    Conv3D(32, (3, 3, 3), activation='relu', input_shape=input_shape),\n",
        "    MaxPooling3D((2, 2, 2)),\n",
        "    Conv3D(64, (3, 3, 3), activation='relu'),\n",
        "    MaxPooling3D((2, 2, 2)),\n",
        "    Conv3D(128, (3, 3, 3), activation='relu'),\n",
        "    Flatten(),\n",
        "    Dense(128, activation='relu'),\n",
        "    Dense(len(groups), activation='softmax')\n",
        "])\n",
        "\n",
        "# Compile the model\n",
        "model.compile(optimizer='adam', loss='categorical_crossentropy', metrics=['accuracy'])\n",
        "\n",
        "# Train the model\n",
        "#model.fit(all_data, one_hot_labels, epochs=10, batch_size=32, validation_split=0.2)\n",
        "from sklearn.model_selection import train_test_split\n",
        "\n",
        "# Split data into training and validation sets\n",
        "X_train, X_val, y_train, y_val = train_test_split(all_data, one_hot_labels, test_size=0.2, random_state=42)\n",
        "model.fit(X_train, y_train, epochs=10, batch_size=32, validation_data=(X_val, y_val))\n"
      ],
      "metadata": {
        "colab": {
          "base_uri": "https://localhost:8080/"
        },
        "id": "qf6PnvnWj4Kg",
        "outputId": "cadb7c9c-4dbb-4643-b682-fa79182087cc"
      },
      "execution_count": 7,
      "outputs": [
        {
          "output_type": "stream",
          "name": "stdout",
          "text": [
            "Processing group: healthy, Number of participants: 130\n",
            "Processing group: chronic, Number of participants: 130\n",
            "Processing group: subacute, Number of participants: 390\n"
          ]
        },
        {
          "output_type": "stream",
          "name": "stderr",
          "text": [
            "/usr/local/lib/python3.10/dist-packages/keras/src/layers/convolutional/base_conv.py:107: UserWarning: Do not pass an `input_shape`/`input_dim` argument to a layer. When using Sequential models, prefer using an `Input(shape)` object as the first layer in the model instead.\n",
            "  super().__init__(activity_regularizer=activity_regularizer, **kwargs)\n"
          ]
        },
        {
          "output_type": "stream",
          "name": "stdout",
          "text": [
            "Epoch 1/10\n",
            "\u001b[1m11/11\u001b[0m \u001b[32m━━━━━━━━━━━━━━━━━━━━\u001b[0m\u001b[37m\u001b[0m \u001b[1m8s\u001b[0m 527ms/step - accuracy: 0.4179 - loss: 2.3288 - val_accuracy: 0.5517 - val_loss: 1.0895\n",
            "Epoch 2/10\n",
            "\u001b[1m11/11\u001b[0m \u001b[32m━━━━━━━━━━━━━━━━━━━━\u001b[0m\u001b[37m\u001b[0m \u001b[1m3s\u001b[0m 248ms/step - accuracy: 0.6767 - loss: 0.8743 - val_accuracy: 0.5517 - val_loss: 0.9759\n",
            "Epoch 3/10\n",
            "\u001b[1m11/11\u001b[0m \u001b[32m━━━━━━━━━━━━━━━━━━━━\u001b[0m\u001b[37m\u001b[0m \u001b[1m3s\u001b[0m 249ms/step - accuracy: 0.6641 - loss: 0.8664 - val_accuracy: 0.5517 - val_loss: 0.9944\n",
            "Epoch 4/10\n",
            "\u001b[1m11/11\u001b[0m \u001b[32m━━━━━━━━━━━━━━━━━━━━\u001b[0m\u001b[37m\u001b[0m \u001b[1m3s\u001b[0m 250ms/step - accuracy: 0.6187 - loss: 0.9279 - val_accuracy: 0.5517 - val_loss: 0.9497\n",
            "Epoch 5/10\n",
            "\u001b[1m11/11\u001b[0m \u001b[32m━━━━━━━━━━━━━━━━━━━━\u001b[0m\u001b[37m\u001b[0m \u001b[1m3s\u001b[0m 249ms/step - accuracy: 0.6572 - loss: 0.8413 - val_accuracy: 0.5517 - val_loss: 0.9359\n",
            "Epoch 6/10\n",
            "\u001b[1m11/11\u001b[0m \u001b[32m━━━━━━━━━━━━━━━━━━━━\u001b[0m\u001b[37m\u001b[0m \u001b[1m3s\u001b[0m 250ms/step - accuracy: 0.6378 - loss: 0.8631 - val_accuracy: 0.5517 - val_loss: 0.8863\n",
            "Epoch 7/10\n",
            "\u001b[1m11/11\u001b[0m \u001b[32m━━━━━━━━━━━━━━━━━━━━\u001b[0m\u001b[37m\u001b[0m \u001b[1m3s\u001b[0m 249ms/step - accuracy: 0.6017 - loss: 0.8949 - val_accuracy: 0.5517 - val_loss: 0.8993\n",
            "Epoch 8/10\n",
            "\u001b[1m11/11\u001b[0m \u001b[32m━━━━━━━━━━━━━━━━━━━━\u001b[0m\u001b[37m\u001b[0m \u001b[1m3s\u001b[0m 247ms/step - accuracy: 0.6167 - loss: 0.8611 - val_accuracy: 0.5517 - val_loss: 0.9371\n",
            "Epoch 9/10\n",
            "\u001b[1m11/11\u001b[0m \u001b[32m━━━━━━━━━━━━━━━━━━━━\u001b[0m\u001b[37m\u001b[0m \u001b[1m3s\u001b[0m 246ms/step - accuracy: 0.6124 - loss: 0.8832 - val_accuracy: 0.5517 - val_loss: 0.9507\n",
            "Epoch 10/10\n",
            "\u001b[1m11/11\u001b[0m \u001b[32m━━━━━━━━━━━━━━━━━━━━\u001b[0m\u001b[37m\u001b[0m \u001b[1m3s\u001b[0m 245ms/step - accuracy: 0.6497 - loss: 0.8191 - val_accuracy: 0.5517 - val_loss: 0.8621\n"
          ]
        },
        {
          "output_type": "execute_result",
          "data": {
            "text/plain": [
              "<keras.src.callbacks.history.History at 0x7cecf89bb220>"
            ]
          },
          "metadata": {},
          "execution_count": 7
        }
      ]
    },
    {
      "cell_type": "code",
      "source": [
        "loss, accuracy = model.evaluate(X_val, y_val)\n",
        "print(f\"Validation Loss: {loss:.4f}, Validation Accuracy: {accuracy:.4f}\")\n"
      ],
      "metadata": {
        "colab": {
          "base_uri": "https://localhost:8080/"
        },
        "id": "xBoGvAO7N2Ou",
        "outputId": "ad6aa78c-16b2-454a-cdeb-78341a58ba2a"
      },
      "execution_count": 8,
      "outputs": [
        {
          "output_type": "stream",
          "name": "stdout",
          "text": [
            "\u001b[1m3/3\u001b[0m \u001b[32m━━━━━━━━━━━━━━━━━━━━\u001b[0m\u001b[37m\u001b[0m \u001b[1m0s\u001b[0m 82ms/step - accuracy: 0.5532 - loss: 0.8791\n",
            "Validation Loss: 0.8621, Validation Accuracy: 0.5517\n"
          ]
        }
      ]
    },
    {
      "cell_type": "code",
      "source": [
        "import matplotlib.pyplot as plt\n",
        "\n",
        "history = model.fit(X_train, y_train, epochs=10, batch_size=32, validation_data=(X_val, y_val))\n",
        "\n",
        "plt.plot(history.history['accuracy'], label='accuracy')\n",
        "plt.plot(history.history['val_accuracy'], label = 'val_accuracy')\n",
        "plt.xlabel('Epoch')\n",
        "plt.ylabel('Accuracy')\n",
        "plt.ylim([0, 1])\n",
        "plt.legend(loc='lower right')\n",
        "plt.show()\n"
      ],
      "metadata": {
        "colab": {
          "base_uri": "https://localhost:8080/",
          "height": 802
        },
        "id": "00ER7taHOxCA",
        "outputId": "cec885a0-46b3-4ff2-bb14-e4826af057e2"
      },
      "execution_count": 9,
      "outputs": [
        {
          "output_type": "stream",
          "name": "stdout",
          "text": [
            "Epoch 1/10\n",
            "\u001b[1m11/11\u001b[0m \u001b[32m━━━━━━━━━━━━━━━━━━━━\u001b[0m\u001b[37m\u001b[0m \u001b[1m3s\u001b[0m 250ms/step - accuracy: 0.6395 - loss: 0.7871 - val_accuracy: 0.5517 - val_loss: 0.8724\n",
            "Epoch 2/10\n",
            "\u001b[1m11/11\u001b[0m \u001b[32m━━━━━━━━━━━━━━━━━━━━\u001b[0m\u001b[37m\u001b[0m \u001b[1m3s\u001b[0m 238ms/step - accuracy: 0.6208 - loss: 0.7971 - val_accuracy: 0.5862 - val_loss: 0.9070\n",
            "Epoch 3/10\n",
            "\u001b[1m11/11\u001b[0m \u001b[32m━━━━━━━━━━━━━━━━━━━━\u001b[0m\u001b[37m\u001b[0m \u001b[1m3s\u001b[0m 240ms/step - accuracy: 0.6989 - loss: 0.7047 - val_accuracy: 0.5862 - val_loss: 0.8608\n",
            "Epoch 4/10\n",
            "\u001b[1m11/11\u001b[0m \u001b[32m━━━━━━━━━━━━━━━━━━━━\u001b[0m\u001b[37m\u001b[0m \u001b[1m3s\u001b[0m 242ms/step - accuracy: 0.6708 - loss: 0.6979 - val_accuracy: 0.5977 - val_loss: 0.9224\n",
            "Epoch 5/10\n",
            "\u001b[1m11/11\u001b[0m \u001b[32m━━━━━━━━━━━━━━━━━━━━\u001b[0m\u001b[37m\u001b[0m \u001b[1m3s\u001b[0m 243ms/step - accuracy: 0.6508 - loss: 0.6850 - val_accuracy: 0.5862 - val_loss: 1.1591\n",
            "Epoch 6/10\n",
            "\u001b[1m11/11\u001b[0m \u001b[32m━━━━━━━━━━━━━━━━━━━━\u001b[0m\u001b[37m\u001b[0m \u001b[1m3s\u001b[0m 243ms/step - accuracy: 0.6954 - loss: 0.6259 - val_accuracy: 0.4943 - val_loss: 1.1729\n",
            "Epoch 7/10\n",
            "\u001b[1m11/11\u001b[0m \u001b[32m━━━━━━━━━━━━━━━━━━━━\u001b[0m\u001b[37m\u001b[0m \u001b[1m3s\u001b[0m 244ms/step - accuracy: 0.7134 - loss: 0.6464 - val_accuracy: 0.6207 - val_loss: 1.0289\n",
            "Epoch 8/10\n",
            "\u001b[1m11/11\u001b[0m \u001b[32m━━━━━━━━━━━━━━━━━━━━\u001b[0m\u001b[37m\u001b[0m \u001b[1m3s\u001b[0m 247ms/step - accuracy: 0.7703 - loss: 0.5328 - val_accuracy: 0.6207 - val_loss: 0.8342\n",
            "Epoch 9/10\n",
            "\u001b[1m11/11\u001b[0m \u001b[32m━━━━━━━━━━━━━━━━━━━━\u001b[0m\u001b[37m\u001b[0m \u001b[1m3s\u001b[0m 248ms/step - accuracy: 0.7767 - loss: 0.5357 - val_accuracy: 0.6322 - val_loss: 0.8834\n",
            "Epoch 10/10\n",
            "\u001b[1m11/11\u001b[0m \u001b[32m━━━━━━━━━━━━━━━━━━━━\u001b[0m\u001b[37m\u001b[0m \u001b[1m3s\u001b[0m 248ms/step - accuracy: 0.8214 - loss: 0.4538 - val_accuracy: 0.6092 - val_loss: 1.0917\n"
          ]
        },
        {
          "output_type": "display_data",
          "data": {
            "text/plain": [
              "<Figure size 640x480 with 1 Axes>"
            ],
            "image/png": "[encoded data removed]"
          },
          "metadata": {}
        }
      ]
    },
    {
      "cell_type": "code",
      "source": [
        "predictions = model.predict(X_val)\n",
        "predicted_classes = np.argmax(predictions, axis=1)\n",
        "true_classes = np.argmax(y_val, axis=1)\n",
        "\n",
        "print(\"Predicted classes:\", predicted_classes[:10])\n",
        "print(\"True classes:\", true_classes[:10])\n"
      ],
      "metadata": {
        "colab": {
          "base_uri": "https://localhost:8080/"
        },
        "id": "PmIrqI9tO-tY",
        "outputId": "8091cd8b-bb85-457e-9cb4-5e6a7855f848"
      },
      "execution_count": 10,
      "outputs": [
        {
          "output_type": "stream",
          "name": "stdout",
          "text": [
            "\u001b[1m3/3\u001b[0m \u001b[32m━━━━━━━━━━━━━━━━━━━━\u001b[0m\u001b[37m\u001b[0m \u001b[1m1s\u001b[0m 173ms/step\n",
            "Predicted classes: [0 0 0 2 0 0 2 2 2 2]\n",
            "True classes: [2 1 0 2 2 2 2 0 2 2]\n"
          ]
        }
      ]
    }
  ]
}