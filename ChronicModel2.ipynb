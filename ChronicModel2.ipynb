{
  "nbformat": 4,
  "nbformat_minor": 0,
  "metadata": {
    "colab": {
      "provenance": [],
      "machine_shape": "hm",
      "gpuType": "T4",
      "authorship_tag": "ABX9TyOU1/ifATJQwdLWDoD6m6dD",
      "include_colab_link": true
    },
    "kernelspec": {
      "name": "python3",
      "display_name": "Python 3"
    },
    "language_info": {
      "name": "python"
    },
    "accelerator": "GPU"
  },
  "cells": [
    {
      "cell_type": "markdown",
      "metadata": {
        "id": "view-in-github",
        "colab_type": "text"
      },
      "source": [
        "<a href=\"https://colab.research.google.com/github/iSarahSajjad/neuro-chronical-prediction/blob/Models/ChronicModel2.ipynb\" target=\"_parent\"><img src=\"https://colab.research.google.com/assets/colab-badge.svg\" alt=\"Open In Colab\"/></a>"
      ]
    },
    {
      "cell_type": "code",
      "execution_count": 2,
      "metadata": {
        "colab": {
          "base_uri": "https://localhost:8080/"
        },
        "id": "gwNDy0Um1zug",
        "outputId": "1be5f290-08d2-4c5c-8744-c329703e7bcb"
      },
      "outputs": [
        {
          "output_type": "stream",
          "name": "stdout",
          "text": [
            "Mounted at /content/drive\n"
          ]
        }
      ],
      "source": [
        "\n",
        "from google.colab import drive\n",
        "drive.mount('/content/drive')\n"
      ]
    },
    {
      "cell_type": "code",
      "source": [
        "import os\n",
        "import pandas as pd\n",
        "import numpy as np\n",
        "import nibabel as nib\n",
        "from sklearn.model_selection import train_test_split\n",
        "from tensorflow.keras.models import Sequential\n",
        "from tensorflow.keras.layers import Conv3D, MaxPooling3D, Flatten, Dense, Dropout\n",
        "from skimage.transform import resize\n",
        "import matplotlib.pyplot as plt\n",
        "import pickle\n",
        "\n",
        "# Check if GPU is available\n",
        "import tensorflow as tf\n",
        "if tf.config.list_physical_devices('GPU'):\n",
        "    print(\"GPU is available. Training will be performed on GPU.\")\n",
        "else:\n",
        "    print(\"GPU is not available. Training will be performed on CPU.\")\n",
        "\n",
        "# Directory where preprocessed batches are stored\n",
        "batch_dir = '/content/drive/My Drive/ChronicAI/dataset/preprocessed_batches'\n",
        "\n",
        "# Load and concatenate batch data (use a generator to avoid loading all data at once)\n",
        "def batch_generator(batch_dir, batch_size=10): # Added batch size parameter\n",
        "    batch_data = []\n",
        "    batch_labels = []\n",
        "    count = 0\n",
        "    for filename in os.listdir(batch_dir):\n",
        "        if filename.endswith('.pkl'):\n",
        "            batch_path = os.path.join(batch_dir, filename)\n",
        "            with open(batch_path, 'rb') as f:\n",
        "                data, labels = pickle.load(f)\n",
        "            for i in range(len(labels)):\n",
        "                batch_data.append(data[i])\n",
        "                batch_labels.append(labels[i])\n",
        "                count += 1\n",
        "                if count == batch_size:\n",
        "                    yield np.array(batch_data), np.array(batch_labels)\n",
        "                    batch_data = []\n",
        "                    batch_labels = []\n",
        "                    count = 0\n",
        "    if batch_data: # Yield remaining data if any\n",
        "        yield np.array(batch_data), np.array(batch_labels)\n",
        "\n",
        "# Calculate total number of samples\n",
        "num_samples = sum(len(batch_labels) for _, batch_labels in batch_generator(batch_dir))\n",
        "\n",
        "# Split data into train and test sets (approximate split based on batch files)\n",
        "train_files = os.listdir(batch_dir)[:-1]  # Use all but the last batch for training\n",
        "test_files = os.listdir(batch_dir)[-1:]   # Use the last batch for testing\n",
        "\n",
        "def train_generator(batch_size=10): # Added batch size parameter\n",
        "    return batch_generator(batch_dir, batch_size) # Use the main batch generator\n",
        "\n",
        "def test_generator(batch_size=10): # Added batch size parameter\n",
        "    return batch_generator(batch_dir, batch_size) # Use the main batch generator\n",
        "\n",
        "# Determine target shape from the first batch\n",
        "first_batch_data, _ = next(train_generator(batch_size=1)) # Get only one sample\n",
        "target_shape = first_batch_data.shape[1:]\n",
        "\n",
        "# Define 3D CNN model\n",
        "model = Sequential()\n",
        "model.add(Conv3D(32, (3, 3, 3), activation='relu', input_shape=(target_shape[0], target_shape[1], target_shape[2], 1)))  # Add channel dimension\n",
        "model.add(MaxPooling3D((2, 2, 2)))\n",
        "model.add(Conv3D(64, (3, 3, 3), activation='relu'))\n",
        "model.add(MaxPooling3D((2, 2, 2)))\n",
        "\n",
        "# Reduce dimensionality before flattening to avoid excessive parameters in Dense layer\n",
        "model.add(Conv3D(128, (3, 3, 3), activation='relu'))\n",
        "model.add(MaxPooling3D((2, 2, 2)))\n",
        "\n",
        "model.add(Flatten())\n",
        "model.add(Dense(64, activation='relu'))\n",
        "model.add(Dropout(0.5))\n",
        "model.add(Dense(3, activation='softmax'))  # 3 output classes\n",
        "\n",
        "# Compile model\n",
        "model.compile(optimizer='adam', loss='sparse_categorical_crossentropy', metrics=['accuracy'])\n",
        "\n",
        "batch_size = 1 # Adjust this based on your available memory\n",
        "# Note: Adjust steps_per_epoch and validation_steps based on your batch sizes and data split\n",
        "history = model.fit(train_generator(batch_size=batch_size),\n",
        "                    epochs=10,\n",
        "                    steps_per_epoch=num_samples // batch_size, # Adjust based on your training data size\n",
        "                    validation_data=test_generator(batch_size=batch_size),\n",
        "                    validation_steps=len(test_files)) # Adjust based on your test data size\n",
        "\n",
        "# Plot training history\n",
        "plt.plot(history.history['accuracy'], label='Training Accuracy')\n",
        "plt.plot(history.history['val_accuracy'], label='Validation Accuracy')\n",
        "plt.xlabel('Epoch')\n",
        "plt.ylabel('Accuracy')\n",
        "plt.legend()\n",
        "plt.show()\n"
      ],
      "metadata": {
        "colab": {
          "base_uri": "https://localhost:8080/",
          "height": 907
        },
        "id": "YqVmWAsO2LxP",
        "outputId": "b50d28ca-424a-4b43-df48-a5ee814d31f2"
      },
      "execution_count": 3,
      "outputs": [
        {
          "output_type": "stream",
          "name": "stdout",
          "text": [
            "GPU is available. Training will be performed on GPU.\n"
          ]
        },
        {
          "output_type": "stream",
          "name": "stderr",
          "text": [
            "/usr/local/lib/python3.10/dist-packages/keras/src/layers/convolutional/base_conv.py:107: UserWarning: Do not pass an `input_shape`/`input_dim` argument to a layer. When using Sequential models, prefer using an `Input(shape)` object as the first layer in the model instead.\n",
            "  super().__init__(activity_regularizer=activity_regularizer, **kwargs)\n"
          ]
        },
        {
          "output_type": "stream",
          "name": "stdout",
          "text": [
            "Epoch 1/10\n",
            "\u001b[1m434/434\u001b[0m \u001b[32m━━━━━━━━━━━━━━━━━━━━\u001b[0m\u001b[37m\u001b[0m \u001b[1m503s\u001b[0m 1s/step - accuracy: 0.9879 - loss: 0.9210 - val_accuracy: 0.0000e+00 - val_loss: 1.3213\n",
            "Epoch 2/10\n"
          ]
        },
        {
          "output_type": "stream",
          "name": "stderr",
          "text": [
            "/usr/lib/python3.10/contextlib.py:153: UserWarning: Your input ran out of data; interrupting training. Make sure that your dataset or generator can generate at least `steps_per_epoch * epochs` batches. You may need to use the `.repeat()` function when building your dataset.\n",
            "  self.gen.throw(typ, value, traceback)\n"
          ]
        },
        {
          "output_type": "stream",
          "name": "stdout",
          "text": [
            "\r\u001b[1m434/434\u001b[0m \u001b[32m━━━━━━━━━━━━━━━━━━━━\u001b[0m\u001b[37m\u001b[0m \u001b[1m0s\u001b[0m 532us/step - accuracy: 0.0000e+00 - loss: 0.0000e+00 - val_accuracy: 0.0000e+00 - val_loss: 1.3213\n",
            "Epoch 3/10\n",
            "\u001b[1m434/434\u001b[0m \u001b[32m━━━━━━━━━━━━━━━━━━━━\u001b[0m\u001b[37m\u001b[0m \u001b[1m0s\u001b[0m 444us/step - accuracy: 0.0000e+00 - loss: 0.0000e+00 - val_accuracy: 0.0000e+00 - val_loss: 1.3213\n",
            "Epoch 4/10\n",
            "\u001b[1m434/434\u001b[0m \u001b[32m━━━━━━━━━━━━━━━━━━━━\u001b[0m\u001b[37m\u001b[0m \u001b[1m0s\u001b[0m 406us/step - accuracy: 0.0000e+00 - loss: 0.0000e+00 - val_accuracy: 0.0000e+00 - val_loss: 1.3213\n",
            "Epoch 5/10\n",
            "\u001b[1m434/434\u001b[0m \u001b[32m━━━━━━━━━━━━━━━━━━━━\u001b[0m\u001b[37m\u001b[0m \u001b[1m0s\u001b[0m 373us/step - accuracy: 0.0000e+00 - loss: 0.0000e+00 - val_accuracy: 0.0000e+00 - val_loss: 1.3213\n",
            "Epoch 6/10\n",
            "\u001b[1m434/434\u001b[0m \u001b[32m━━━━━━━━━━━━━━━━━━━━\u001b[0m\u001b[37m\u001b[0m \u001b[1m0s\u001b[0m 400us/step - accuracy: 0.0000e+00 - loss: 0.0000e+00 - val_accuracy: 0.0000e+00 - val_loss: 1.3213\n",
            "Epoch 7/10\n",
            "\u001b[1m434/434\u001b[0m \u001b[32m━━━━━━━━━━━━━━━━━━━━\u001b[0m\u001b[37m\u001b[0m \u001b[1m0s\u001b[0m 374us/step - accuracy: 0.0000e+00 - loss: 0.0000e+00 - val_accuracy: 0.0000e+00 - val_loss: 1.3213\n",
            "Epoch 8/10\n",
            "\u001b[1m434/434\u001b[0m \u001b[32m━━━━━━━━━━━━━━━━━━━━\u001b[0m\u001b[37m\u001b[0m \u001b[1m0s\u001b[0m 371us/step - accuracy: 0.0000e+00 - loss: 0.0000e+00 - val_accuracy: 0.0000e+00 - val_loss: 1.3213\n",
            "Epoch 9/10\n",
            "\u001b[1m434/434\u001b[0m \u001b[32m━━━━━━━━━━━━━━━━━━━━\u001b[0m\u001b[37m\u001b[0m \u001b[1m0s\u001b[0m 370us/step - accuracy: 0.0000e+00 - loss: 0.0000e+00 - val_accuracy: 0.0000e+00 - val_loss: 1.3213\n",
            "Epoch 10/10\n",
            "\u001b[1m434/434\u001b[0m \u001b[32m━━━━━━━━━━━━━━━━━━━━\u001b[0m\u001b[37m\u001b[0m \u001b[1m0s\u001b[0m 398us/step - accuracy: 0.0000e+00 - loss: 0.0000e+00 - val_accuracy: 0.0000e+00 - val_loss: 1.3213\n"
          ]
        },
        {
          "output_type": "display_data",
          "data": {
            "text/plain": [
              "<Figure size 640x480 with 1 Axes>"
            ],
            "image/png": "[encoded data removed]"
          },
          "metadata": {}
        }
      ]
    }
  ]
}